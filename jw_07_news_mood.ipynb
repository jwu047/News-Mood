{
 "cells": [
  {
   "cell_type": "markdown",
   "metadata": {},
   "source": [
    "# News Mood with Tweepy and vaderSentiment"
   ]
  },
  {
   "cell_type": "markdown",
   "metadata": {},
   "source": [
    "## Dependencies and Setup"
   ]
  },
  {
   "cell_type": "code",
   "execution_count": 3,
   "metadata": {
    "ExecuteTime": {
     "end_time": "2019-11-16T04:38:27.352830Z",
     "start_time": "2019-11-16T04:38:27.342860Z"
    }
   },
   "outputs": [],
   "source": [
    "import numpy as np\n",
    "import pandas as pd\n",
    "import matplotlib.pyplot as plt\n",
    "%matplotlib inline\n",
    "\n",
    "import json\n",
    "import tweepy\n",
    "import time\n",
    "\n",
    "import warnings\n",
    "warnings.filterwarnings(\"ignore\")\n",
    "\n",
    "# Twitter API \n",
    "from myconfig import consumer_key, consumer_secret, access_token, access_token_secret\n",
    "\n",
    "from vaderSentiment.vaderSentiment import SentimentIntensityAnalyzer"
   ]
  },
  {
   "cell_type": "code",
   "execution_count": 4,
   "metadata": {
    "ExecuteTime": {
     "end_time": "2019-11-16T04:38:54.760682Z",
     "start_time": "2019-11-16T04:38:54.725773Z"
    }
   },
   "outputs": [],
   "source": [
    "# tweepy API authentication\n",
    "auth = tweepy.OAuthHandler(consumer_key, consumer_secret)\n",
    "auth.set_access_token(access_token, access_token_secret)\n",
    "api = tweepy.API(auth, parser=tweepy.parsers.JSONParser())\n",
    "\n",
    "# vader analyzer\n",
    "analyzer = SentimentIntensityAnalyzer()"
   ]
  },
  {
   "cell_type": "markdown",
   "metadata": {},
   "source": [
    "## Get data"
   ]
  },
  {
   "cell_type": "code",
   "execution_count": 14,
   "metadata": {
    "ExecuteTime": {
     "end_time": "2019-11-16T04:51:40.728091Z",
     "start_time": "2019-11-16T04:51:34.003724Z"
    }
   },
   "outputs": [],
   "source": [
    "# Get data for these news sources\n",
    "sources = [\"FoxNews\", \"CNN\", \"BBCWorld\", \"CBSNews\", \"nytimes\"]\n",
    "\n",
    "# Store data using dictionary to create dataframe easily later\n",
    "tweet_data = {\n",
    "    \"tweet_source\": [],\n",
    "    \"tweet_text\": [],\n",
    "    \"tweet_date\": [],\n",
    "    \"tweet_vader_score\": [],\n",
    "    \"tweet_pos_score\": [],\n",
    "    \"tweet_neu_score\": [],\n",
    "    \"tweet_neg_score\": [],\n",
    "}\n",
    "\n",
    "# Pagination\n",
    "for x in range(5):\n",
    "    for source in sources:\n",
    "        # data for tweets\n",
    "        public_tweets = api.user_timeline(source, page=x)\n",
    "        for tweet in public_tweets:\n",
    "            # get data for tweeter, the tweet itself, and the tweet's creation date\n",
    "            tweet_data[\"tweet_source\"].append(tweet[\"user\"][\"name\"])\n",
    "            tweet_data[\"tweet_text\"].append(tweet[\"text\"])\n",
    "            tweet_data[\"tweet_date\"].append(tweet[\"created_at\"])\n",
    "\n",
    "            # vader's polarity_scores\n",
    "            results = analyzer.polarity_scores(tweet[\"text\"])\n",
    "            tweet_data[\"tweet_vader_score\"].append(results[\"compound\"])\n",
    "            tweet_data[\"tweet_pos_score\"].append(results[\"pos\"])\n",
    "            tweet_data[\"tweet_neu_score\"].append(results[\"neu\"])\n",
    "            tweet_data[\"tweet_neg_score\"].append(results[\"neg\"])"
   ]
  },
  {
   "cell_type": "markdown",
   "metadata": {},
   "source": [
    "## DataFrame"
   ]
  },
  {
   "cell_type": "code",
   "execution_count": 16,
   "metadata": {
    "ExecuteTime": {
     "end_time": "2019-11-16T04:54:57.226868Z",
     "start_time": "2019-11-16T04:54:57.192959Z"
    }
   },
   "outputs": [
    {
     "data": {
      "text/html": [
       "<div>\n",
       "<style scoped>\n",
       "    .dataframe tbody tr th:only-of-type {\n",
       "        vertical-align: middle;\n",
       "    }\n",
       "\n",
       "    .dataframe tbody tr th {\n",
       "        vertical-align: top;\n",
       "    }\n",
       "\n",
       "    .dataframe thead th {\n",
       "        text-align: right;\n",
       "    }\n",
       "</style>\n",
       "<table border=\"1\" class=\"dataframe\">\n",
       "  <thead>\n",
       "    <tr style=\"text-align: right;\">\n",
       "      <th></th>\n",
       "      <th>tweet_source</th>\n",
       "      <th>tweet_text</th>\n",
       "      <th>tweet_date</th>\n",
       "      <th>tweet_vader_score</th>\n",
       "      <th>tweet_pos_score</th>\n",
       "      <th>tweet_neu_score</th>\n",
       "      <th>tweet_neg_score</th>\n",
       "    </tr>\n",
       "  </thead>\n",
       "  <tbody>\n",
       "    <tr>\n",
       "      <th>0</th>\n",
       "      <td>Fox News</td>\n",
       "      <td>BREAKING: Federal appeals court rules against ...</td>\n",
       "      <td>Thu Nov 08 19:18:44 +0000 2018</td>\n",
       "      <td>0.0000</td>\n",
       "      <td>0.000</td>\n",
       "      <td>1.000</td>\n",
       "      <td>0.000</td>\n",
       "    </tr>\n",
       "    <tr>\n",
       "      <th>1</th>\n",
       "      <td>Fox News</td>\n",
       "      <td>Breaking News: Grand jury indicts captain of M...</td>\n",
       "      <td>Thu Nov 08 17:02:25 +0000 2018</td>\n",
       "      <td>-0.6124</td>\n",
       "      <td>0.115</td>\n",
       "      <td>0.615</td>\n",
       "      <td>0.269</td>\n",
       "    </tr>\n",
       "    <tr>\n",
       "      <th>2</th>\n",
       "      <td>Fox News</td>\n",
       "      <td>JUST IN: Police identify gunman who opened fir...</td>\n",
       "      <td>Thu Nov 08 15:14:45 +0000 2018</td>\n",
       "      <td>-0.7783</td>\n",
       "      <td>0.000</td>\n",
       "      <td>0.638</td>\n",
       "      <td>0.362</td>\n",
       "    </tr>\n",
       "    <tr>\n",
       "      <th>3</th>\n",
       "      <td>Fox News</td>\n",
       "      <td>JUST IN: Supreme Court Justice Ruth Bader Gins...</td>\n",
       "      <td>Thu Nov 08 14:22:51 +0000 2018</td>\n",
       "      <td>0.7906</td>\n",
       "      <td>0.389</td>\n",
       "      <td>0.611</td>\n",
       "      <td>0.000</td>\n",
       "    </tr>\n",
       "    <tr>\n",
       "      <th>4</th>\n",
       "      <td>Fox News</td>\n",
       "      <td>Sgt. Ron Helus was fatally shot when he respon...</td>\n",
       "      <td>Thu Nov 08 13:43:25 +0000 2018</td>\n",
       "      <td>-0.6369</td>\n",
       "      <td>0.000</td>\n",
       "      <td>0.833</td>\n",
       "      <td>0.167</td>\n",
       "    </tr>\n",
       "  </tbody>\n",
       "</table>\n",
       "</div>"
      ],
      "text/plain": [
       "  tweet_source                                         tweet_text  \\\n",
       "0     Fox News  BREAKING: Federal appeals court rules against ...   \n",
       "1     Fox News  Breaking News: Grand jury indicts captain of M...   \n",
       "2     Fox News  JUST IN: Police identify gunman who opened fir...   \n",
       "3     Fox News  JUST IN: Supreme Court Justice Ruth Bader Gins...   \n",
       "4     Fox News  Sgt. Ron Helus was fatally shot when he respon...   \n",
       "\n",
       "                       tweet_date  tweet_vader_score  tweet_pos_score  \\\n",
       "0  Thu Nov 08 19:18:44 +0000 2018             0.0000            0.000   \n",
       "1  Thu Nov 08 17:02:25 +0000 2018            -0.6124            0.115   \n",
       "2  Thu Nov 08 15:14:45 +0000 2018            -0.7783            0.000   \n",
       "3  Thu Nov 08 14:22:51 +0000 2018             0.7906            0.389   \n",
       "4  Thu Nov 08 13:43:25 +0000 2018            -0.6369            0.000   \n",
       "\n",
       "   tweet_neu_score  tweet_neg_score  \n",
       "0            1.000            0.000  \n",
       "1            0.615            0.269  \n",
       "2            0.638            0.362  \n",
       "3            0.611            0.000  \n",
       "4            0.833            0.167  "
      ]
     },
     "execution_count": 16,
     "metadata": {},
     "output_type": "execute_result"
    }
   ],
   "source": [
    "tweet_df = pd.DataFrame.from_dict(tweet_data)\n",
    "\n",
    "# Save the file with date\n",
    "file_name = str(time.strftime(\"%m-%d-%y\")) + \"_tweets.csv\"\n",
    "tweet_df.to_csv(\"analysis/\" + file_name, encoding=\"utf-8\")\n",
    "tweet_df.head()"
   ]
  },
  {
   "cell_type": "code",
   "execution_count": 19,
   "metadata": {
    "ExecuteTime": {
     "end_time": "2019-11-16T04:56:34.460112Z",
     "start_time": "2019-11-16T04:56:34.453131Z"
    }
   },
   "outputs": [
    {
     "data": {
      "text/plain": [
       "tweet_source          object\n",
       "tweet_text            object\n",
       "tweet_date            object\n",
       "tweet_vader_score    float64\n",
       "tweet_pos_score      float64\n",
       "tweet_neu_score      float64\n",
       "tweet_neg_score      float64\n",
       "dtype: object"
      ]
     },
     "execution_count": 19,
     "metadata": {},
     "output_type": "execute_result"
    }
   ],
   "source": [
    "# Convert string dates into datetime objects\n",
    "tweet_df.dtypes"
   ]
  },
  {
   "cell_type": "code",
   "execution_count": null,
   "metadata": {},
   "outputs": [],
   "source": [
    "tweet_df[\"tweet_date\"] = pd.to_datetime(tweet_df[\"tweet_date\"])\n"
   ]
  }
 ],
 "metadata": {
  "kernelspec": {
   "display_name": "Python 3",
   "language": "python",
   "name": "python3"
  },
  "language_info": {
   "codemirror_mode": {
    "name": "ipython",
    "version": 3
   },
   "file_extension": ".py",
   "mimetype": "text/x-python",
   "name": "python",
   "nbconvert_exporter": "python",
   "pygments_lexer": "ipython3",
   "version": "3.6.7"
  },
  "toc": {
   "base_numbering": 1,
   "nav_menu": {},
   "number_sections": true,
   "sideBar": true,
   "skip_h1_title": false,
   "title_cell": "Table of Contents",
   "title_sidebar": "Contents",
   "toc_cell": false,
   "toc_position": {},
   "toc_section_display": true,
   "toc_window_display": false
  },
  "varInspector": {
   "cols": {
    "lenName": 16,
    "lenType": 16,
    "lenVar": 40
   },
   "kernels_config": {
    "python": {
     "delete_cmd_postfix": "",
     "delete_cmd_prefix": "del ",
     "library": "var_list.py",
     "varRefreshCmd": "print(var_dic_list())"
    },
    "r": {
     "delete_cmd_postfix": ") ",
     "delete_cmd_prefix": "rm(",
     "library": "var_list.r",
     "varRefreshCmd": "cat(var_dic_list()) "
    }
   },
   "types_to_exclude": [
    "module",
    "function",
    "builtin_function_or_method",
    "instance",
    "_Feature"
   ],
   "window_display": false
  }
 },
 "nbformat": 4,
 "nbformat_minor": 2
}
