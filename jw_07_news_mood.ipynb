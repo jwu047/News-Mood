{
 "cells": [
  {
   "cell_type": "markdown",
   "metadata": {},
   "source": [
    "# News Mood with Tweepy and vaderSentiment\n",
    "Sentiment analysis of Twitter news sources using Python. Use the following outlets: BBC, CBS, CNN, Fox, New York Times."
   ]
  },
  {
   "cell_type": "markdown",
   "metadata": {},
   "source": [
    "## Dependencies and Setup"
   ]
  },
  {
   "cell_type": "code",
   "execution_count": 173,
   "metadata": {
    "ExecuteTime": {
     "end_time": "2019-11-16T04:38:27.352830Z",
     "start_time": "2019-11-16T04:38:27.342860Z"
    }
   },
   "outputs": [],
   "source": [
    "import numpy as np\n",
    "import pandas as pd\n",
    "import matplotlib.pyplot as plt\n",
    "%matplotlib inline\n",
    "\n",
    "import tweepy\n",
    "import time\n",
    "\n",
    "# Ignore deprecated function warnings\n",
    "import warnings\n",
    "warnings.filterwarnings(\"ignore\")\n",
    "\n",
    "# Change this to whichever file contains your keys\n",
    "from myconfig import consumer_key, consumer_secret, access_token, access_token_secret\n",
    "\n",
    "from vaderSentiment.vaderSentiment import SentimentIntensityAnalyzer"
   ]
  },
  {
   "cell_type": "code",
   "execution_count": 174,
   "metadata": {
    "ExecuteTime": {
     "end_time": "2019-11-16T04:38:54.760682Z",
     "start_time": "2019-11-16T04:38:54.725773Z"
    }
   },
   "outputs": [],
   "source": [
    "# tweepy API authentication\n",
    "auth = tweepy.OAuthHandler(consumer_key, consumer_secret)\n",
    "auth.set_access_token(access_token, access_token_secret)\n",
    "api = tweepy.API(auth, parser=tweepy.parsers.JSONParser())\n",
    "\n",
    "# vader analyzer\n",
    "analyzer = SentimentIntensityAnalyzer()"
   ]
  },
  {
   "cell_type": "markdown",
   "metadata": {},
   "source": [
    "## Get data"
   ]
  },
  {
   "cell_type": "code",
   "execution_count": 175,
   "metadata": {
    "ExecuteTime": {
     "end_time": "2019-11-16T04:51:40.728091Z",
     "start_time": "2019-11-16T04:51:34.003724Z"
    }
   },
   "outputs": [],
   "source": [
    "# Get data for these news sources\n",
    "sources = [\"FoxNews\", \"CNN\", \"BBCWorld\", \"CBSNews\", \"nytimes\"]\n",
    "\n",
    "# Store data using dictionary to create dataframe easily later\n",
    "tweet_data = {\n",
    "    \"tweet_source\": [],\n",
    "    \"tweet_text\": [],\n",
    "    \"tweet_date\": [],\n",
    "    \"tweet_vader_score\": [],\n",
    "    \"tweet_pos_score\": [],\n",
    "    \"tweet_neu_score\": [],\n",
    "    \"tweet_neg_score\": [],\n",
    "}\n",
    "\n",
    "# Pagination\n",
    "for x in range(5):\n",
    "    for source in sources:\n",
    "        # data for tweets\n",
    "        public_tweets = api.user_timeline(source, page=x)\n",
    "        for tweet in public_tweets:\n",
    "            # get data for tweeter, the tweet itself, and the tweet's creation date\n",
    "            tweet_data[\"tweet_source\"].append(tweet[\"user\"][\"name\"])\n",
    "            tweet_data[\"tweet_text\"].append(tweet[\"text\"])\n",
    "            tweet_data[\"tweet_date\"].append(tweet[\"created_at\"])\n",
    "\n",
    "            # vader's polarity_scores\n",
    "            results = analyzer.polarity_scores(tweet[\"text\"])\n",
    "            tweet_data[\"tweet_vader_score\"].append(results[\"compound\"])\n",
    "            tweet_data[\"tweet_pos_score\"].append(results[\"pos\"])\n",
    "            tweet_data[\"tweet_neu_score\"].append(results[\"neu\"])\n",
    "            tweet_data[\"tweet_neg_score\"].append(results[\"neg\"])"
   ]
  },
  {
   "cell_type": "markdown",
   "metadata": {},
   "source": [
    "## DataFrame"
   ]
  },
  {
   "cell_type": "code",
   "execution_count": 176,
   "metadata": {
    "ExecuteTime": {
     "end_time": "2019-11-16T04:54:57.226868Z",
     "start_time": "2019-11-16T04:54:57.192959Z"
    }
   },
   "outputs": [
    {
     "data": {
      "text/html": [
       "<div>\n",
       "<style scoped>\n",
       "    .dataframe tbody tr th:only-of-type {\n",
       "        vertical-align: middle;\n",
       "    }\n",
       "\n",
       "    .dataframe tbody tr th {\n",
       "        vertical-align: top;\n",
       "    }\n",
       "\n",
       "    .dataframe thead th {\n",
       "        text-align: right;\n",
       "    }\n",
       "</style>\n",
       "<table border=\"1\" class=\"dataframe\">\n",
       "  <thead>\n",
       "    <tr style=\"text-align: right;\">\n",
       "      <th></th>\n",
       "      <th>tweet_source</th>\n",
       "      <th>tweet_text</th>\n",
       "      <th>tweet_date</th>\n",
       "      <th>tweet_vader_score</th>\n",
       "      <th>tweet_pos_score</th>\n",
       "      <th>tweet_neu_score</th>\n",
       "      <th>tweet_neg_score</th>\n",
       "    </tr>\n",
       "  </thead>\n",
       "  <tbody>\n",
       "    <tr>\n",
       "      <th>0</th>\n",
       "      <td>Fox News</td>\n",
       "      <td>BREAKING: Federal appeals court rules against ...</td>\n",
       "      <td>Thu Nov 08 19:18:44 +0000 2018</td>\n",
       "      <td>0.0000</td>\n",
       "      <td>0.000</td>\n",
       "      <td>1.000</td>\n",
       "      <td>0.000</td>\n",
       "    </tr>\n",
       "    <tr>\n",
       "      <th>1</th>\n",
       "      <td>Fox News</td>\n",
       "      <td>Breaking News: Grand jury indicts captain of M...</td>\n",
       "      <td>Thu Nov 08 17:02:25 +0000 2018</td>\n",
       "      <td>-0.6124</td>\n",
       "      <td>0.115</td>\n",
       "      <td>0.615</td>\n",
       "      <td>0.269</td>\n",
       "    </tr>\n",
       "    <tr>\n",
       "      <th>2</th>\n",
       "      <td>Fox News</td>\n",
       "      <td>JUST IN: Police identify gunman who opened fir...</td>\n",
       "      <td>Thu Nov 08 15:14:45 +0000 2018</td>\n",
       "      <td>-0.7783</td>\n",
       "      <td>0.000</td>\n",
       "      <td>0.638</td>\n",
       "      <td>0.362</td>\n",
       "    </tr>\n",
       "    <tr>\n",
       "      <th>3</th>\n",
       "      <td>Fox News</td>\n",
       "      <td>JUST IN: Supreme Court Justice Ruth Bader Gins...</td>\n",
       "      <td>Thu Nov 08 14:22:51 +0000 2018</td>\n",
       "      <td>0.7906</td>\n",
       "      <td>0.389</td>\n",
       "      <td>0.611</td>\n",
       "      <td>0.000</td>\n",
       "    </tr>\n",
       "    <tr>\n",
       "      <th>4</th>\n",
       "      <td>Fox News</td>\n",
       "      <td>Sgt. Ron Helus was fatally shot when he respon...</td>\n",
       "      <td>Thu Nov 08 13:43:25 +0000 2018</td>\n",
       "      <td>-0.6369</td>\n",
       "      <td>0.000</td>\n",
       "      <td>0.833</td>\n",
       "      <td>0.167</td>\n",
       "    </tr>\n",
       "  </tbody>\n",
       "</table>\n",
       "</div>"
      ],
      "text/plain": [
       "  tweet_source                                         tweet_text  \\\n",
       "0     Fox News  BREAKING: Federal appeals court rules against ...   \n",
       "1     Fox News  Breaking News: Grand jury indicts captain of M...   \n",
       "2     Fox News  JUST IN: Police identify gunman who opened fir...   \n",
       "3     Fox News  JUST IN: Supreme Court Justice Ruth Bader Gins...   \n",
       "4     Fox News  Sgt. Ron Helus was fatally shot when he respon...   \n",
       "\n",
       "                       tweet_date  tweet_vader_score  tweet_pos_score  \\\n",
       "0  Thu Nov 08 19:18:44 +0000 2018             0.0000            0.000   \n",
       "1  Thu Nov 08 17:02:25 +0000 2018            -0.6124            0.115   \n",
       "2  Thu Nov 08 15:14:45 +0000 2018            -0.7783            0.000   \n",
       "3  Thu Nov 08 14:22:51 +0000 2018             0.7906            0.389   \n",
       "4  Thu Nov 08 13:43:25 +0000 2018            -0.6369            0.000   \n",
       "\n",
       "   tweet_neu_score  tweet_neg_score  \n",
       "0            1.000            0.000  \n",
       "1            0.615            0.269  \n",
       "2            0.638            0.362  \n",
       "3            0.611            0.000  \n",
       "4            0.833            0.167  "
      ]
     },
     "execution_count": 176,
     "metadata": {},
     "output_type": "execute_result"
    }
   ],
   "source": [
    "tweet_df = pd.DataFrame.from_dict(tweet_data)\n",
    "\n",
    "# Save the file with date\n",
    "file_name = str(time.strftime(\"%m-%d-%y\")) + \"_tweets.csv\"\n",
    "tweet_df.to_csv(\"analysis/\" + file_name, encoding=\"utf-8\")\n",
    "tweet_df.head()"
   ]
  },
  {
   "cell_type": "code",
   "execution_count": 177,
   "metadata": {
    "ExecuteTime": {
     "end_time": "2019-11-16T04:56:34.460112Z",
     "start_time": "2019-11-16T04:56:34.453131Z"
    }
   },
   "outputs": [
    {
     "data": {
      "text/plain": [
       "tweet_source          object\n",
       "tweet_text            object\n",
       "tweet_date            object\n",
       "tweet_vader_score    float64\n",
       "tweet_pos_score      float64\n",
       "tweet_neu_score      float64\n",
       "tweet_neg_score      float64\n",
       "dtype: object"
      ]
     },
     "execution_count": 177,
     "metadata": {},
     "output_type": "execute_result"
    }
   ],
   "source": [
    "# Convert string dates into datetime objects\n",
    "tweet_df.dtypes"
   ]
  },
  {
   "cell_type": "code",
   "execution_count": 178,
   "metadata": {},
   "outputs": [
    {
     "data": {
      "text/html": [
       "<div>\n",
       "<style scoped>\n",
       "    .dataframe tbody tr th:only-of-type {\n",
       "        vertical-align: middle;\n",
       "    }\n",
       "\n",
       "    .dataframe tbody tr th {\n",
       "        vertical-align: top;\n",
       "    }\n",
       "\n",
       "    .dataframe thead th {\n",
       "        text-align: right;\n",
       "    }\n",
       "</style>\n",
       "<table border=\"1\" class=\"dataframe\">\n",
       "  <thead>\n",
       "    <tr style=\"text-align: right;\">\n",
       "      <th></th>\n",
       "      <th>tweet_source</th>\n",
       "      <th>tweet_text</th>\n",
       "      <th>tweet_date</th>\n",
       "      <th>tweet_vader_score</th>\n",
       "      <th>tweet_pos_score</th>\n",
       "      <th>tweet_neu_score</th>\n",
       "      <th>tweet_neg_score</th>\n",
       "    </tr>\n",
       "  </thead>\n",
       "  <tbody>\n",
       "    <tr>\n",
       "      <th>0</th>\n",
       "      <td>Fox News</td>\n",
       "      <td>McDonald's customers’ $5M lawsuit over unwante...</td>\n",
       "      <td>2018-11-08 03:01:47+00:00</td>\n",
       "      <td>-0.4215</td>\n",
       "      <td>0.000</td>\n",
       "      <td>0.743</td>\n",
       "      <td>0.257</td>\n",
       "    </tr>\n",
       "    <tr>\n",
       "      <th>1</th>\n",
       "      <td>Fox News</td>\n",
       "      <td>Woman finds her diamond before proposal and 'r...</td>\n",
       "      <td>2018-11-08 03:04:00+00:00</td>\n",
       "      <td>-0.0772</td>\n",
       "      <td>0.170</td>\n",
       "      <td>0.638</td>\n",
       "      <td>0.191</td>\n",
       "    </tr>\n",
       "    <tr>\n",
       "      <th>2</th>\n",
       "      <td>Fox News</td>\n",
       "      <td>.@senatemajldr Mitch McConnell said Wednesday ...</td>\n",
       "      <td>2018-11-08 03:11:00+00:00</td>\n",
       "      <td>0.4939</td>\n",
       "      <td>0.158</td>\n",
       "      <td>0.842</td>\n",
       "      <td>0.000</td>\n",
       "    </tr>\n",
       "    <tr>\n",
       "      <th>3</th>\n",
       "      <td>Fox News</td>\n",
       "      <td>Surveillance video shows Michigan woman report...</td>\n",
       "      <td>2018-11-08 03:16:01+00:00</td>\n",
       "      <td>0.0000</td>\n",
       "      <td>0.000</td>\n",
       "      <td>1.000</td>\n",
       "      <td>0.000</td>\n",
       "    </tr>\n",
       "    <tr>\n",
       "      <th>4</th>\n",
       "      <td>Fox News</td>\n",
       "      <td>Democrat Colin Allred, who unseated Rep. Pete ...</td>\n",
       "      <td>2018-11-08 03:23:00+00:00</td>\n",
       "      <td>0.0000</td>\n",
       "      <td>0.000</td>\n",
       "      <td>1.000</td>\n",
       "      <td>0.000</td>\n",
       "    </tr>\n",
       "  </tbody>\n",
       "</table>\n",
       "</div>"
      ],
      "text/plain": [
       "  tweet_source                                         tweet_text  \\\n",
       "0     Fox News  McDonald's customers’ $5M lawsuit over unwante...   \n",
       "1     Fox News  Woman finds her diamond before proposal and 'r...   \n",
       "2     Fox News  .@senatemajldr Mitch McConnell said Wednesday ...   \n",
       "3     Fox News  Surveillance video shows Michigan woman report...   \n",
       "4     Fox News  Democrat Colin Allred, who unseated Rep. Pete ...   \n",
       "\n",
       "                 tweet_date  tweet_vader_score  tweet_pos_score  \\\n",
       "0 2018-11-08 03:01:47+00:00            -0.4215            0.000   \n",
       "1 2018-11-08 03:04:00+00:00            -0.0772            0.170   \n",
       "2 2018-11-08 03:11:00+00:00             0.4939            0.158   \n",
       "3 2018-11-08 03:16:01+00:00             0.0000            0.000   \n",
       "4 2018-11-08 03:23:00+00:00             0.0000            0.000   \n",
       "\n",
       "   tweet_neu_score  tweet_neg_score  \n",
       "0            0.743            0.257  \n",
       "1            0.638            0.191  \n",
       "2            0.842            0.000  \n",
       "3            1.000            0.000  \n",
       "4            1.000            0.000  "
      ]
     },
     "execution_count": 178,
     "metadata": {},
     "output_type": "execute_result"
    }
   ],
   "source": [
    "tweet_df[\"tweet_date\"] = pd.to_datetime(tweet_df[\"tweet_date\"])\n",
    "# Now, we are able to sort by the date column\n",
    "tweet_df.sort_values(\"tweet_date\", inplace=True)\n",
    "tweet_df.reset_index(drop=True, inplace=True)\n",
    "tweet_df.head()"
   ]
  },
  {
   "cell_type": "markdown",
   "metadata": {},
   "source": [
    "## Plot\n",
    "Create a scatter plot to visualize the last 100 tweets of each news organization using the compound sentiment score. "
   ]
  },
  {
   "cell_type": "code",
   "execution_count": 179,
   "metadata": {},
   "outputs": [
    {
     "data": {
      "image/png": "[encoded data removed]",
      "text/plain": [
       "<Figure size 432x288 with 1 Axes>"
      ]
     },
     "metadata": {
      "needs_background": "light"
     },
     "output_type": "display_data"
    }
   ],
   "source": [
    "# Scatter plots with different colors per label, can be done with plotly as well\n",
    "colors = {\"Fox News\": \"blue\", \"BBC News (World)\": \"skyblue\", \n",
    "          \"The New York Times\": \"gold\", \"CBS News\": \"green\", \n",
    "          \"CNN\": \"red\"}\n",
    "\n",
    "fig, ax = plt.subplots()\n",
    "for source in tweet_df[\"tweet_source\"].unique():\n",
    "    ax.scatter(np.arange(-len(tweet_df[tweet_df[\"tweet_source\"] == source]), 0, 1), \n",
    "            tweet_df[tweet_df[\"tweet_source\"] == source][\"tweet_vader_score\"],\n",
    "            edgecolor=\"black\", linewidths=1, marker=\"o\", color=colors[source], s=75,\n",
    "            alpha=0.8, label=source)\n",
    "# extra plot properties\n",
    "plt.title(f\"Sentiment Analysis of Media Tweets ({time.strftime('%x')})\")\n",
    "plt.ylabel(\"Tweet Polarity\")\n",
    "plt.xlabel(\"Tweets Ago\")\n",
    "plt.xlim([-105, 5])\n",
    "plt.xticks([-100, -80, -60, -40, -20, 0], [100, 80, 60, 40, 20, 0])\n",
    "plt.ylim([-1.05, 1.05])\n",
    "plt.grid()\n",
    "\n",
    "lgnd = plt.legend(fontsize=\"small\", mode=\"Expanded\", \n",
    "                  loc=\"best\", bbox_to_anchor=(1,1), title=\"Media Sources\")\n",
    "\n",
    "file_name = str(time.strftime(\"%m-%d-%y\")) + \"_Fig1.png\"\n",
    "plt.savefig(\"analysis/\" + file_name, bbox_extra_artists=(lgnd, ), bbox_inches='tight')\n",
    "plt.show()"
   ]
  },
  {
   "cell_type": "markdown",
   "metadata": {},
   "source": [
    "## Summary Bar Graph\n",
    "Create a summary bar graph for the news organizations for their average compound scores of their last 100 tweets. "
   ]
  },
  {
   "cell_type": "code",
   "execution_count": 180,
   "metadata": {},
   "outputs": [
    {
     "data": {
      "text/html": [
       "<div>\n",
       "<style scoped>\n",
       "    .dataframe tbody tr th:only-of-type {\n",
       "        vertical-align: middle;\n",
       "    }\n",
       "\n",
       "    .dataframe tbody tr th {\n",
       "        vertical-align: top;\n",
       "    }\n",
       "\n",
       "    .dataframe thead th {\n",
       "        text-align: right;\n",
       "    }\n",
       "</style>\n",
       "<table border=\"1\" class=\"dataframe\">\n",
       "  <thead>\n",
       "    <tr style=\"text-align: right;\">\n",
       "      <th></th>\n",
       "      <th>tweet_vader_score</th>\n",
       "    </tr>\n",
       "    <tr>\n",
       "      <th>tweet_source</th>\n",
       "      <th></th>\n",
       "    </tr>\n",
       "  </thead>\n",
       "  <tbody>\n",
       "    <tr>\n",
       "      <th>BBC News (World)</th>\n",
       "      <td>-0.173338</td>\n",
       "    </tr>\n",
       "    <tr>\n",
       "      <th>CBS News</th>\n",
       "      <td>-0.151797</td>\n",
       "    </tr>\n",
       "    <tr>\n",
       "      <th>CNN</th>\n",
       "      <td>0.047303</td>\n",
       "    </tr>\n",
       "    <tr>\n",
       "      <th>Fox News</th>\n",
       "      <td>-0.116200</td>\n",
       "    </tr>\n",
       "    <tr>\n",
       "      <th>The New York Times</th>\n",
       "      <td>-0.044998</td>\n",
       "    </tr>\n",
       "  </tbody>\n",
       "</table>\n",
       "</div>"
      ],
      "text/plain": [
       "                    tweet_vader_score\n",
       "tweet_source                         \n",
       "BBC News (World)            -0.173338\n",
       "CBS News                    -0.151797\n",
       "CNN                          0.047303\n",
       "Fox News                    -0.116200\n",
       "The New York Times          -0.044998"
      ]
     },
     "execution_count": 180,
     "metadata": {},
     "output_type": "execute_result"
    }
   ],
   "source": [
    "# Get the average compound scores (vader scores)\n",
    "mean_compound_score = tweet_df.groupby([\"tweet_source\"]).mean()[\"tweet_vader_score\"]\n",
    "mean_compound_score_df = pd.DataFrame(mean_compound_score)\n",
    "mean_compound_score_df.head()"
   ]
  },
  {
   "cell_type": "code",
   "execution_count": 181,
   "metadata": {},
   "outputs": [
    {
     "data": {
      "text/plain": [
       "[-0.173338,\n",
       " -0.15179700000000002,\n",
       " 0.04730300000000001,\n",
       " -0.11620000000000001,\n",
       " -0.04499799999999997]"
      ]
     },
     "execution_count": 181,
     "metadata": {},
     "output_type": "execute_result"
    }
   ],
   "source": [
    "compound_values = mean_compound_score_df[\"tweet_vader_score\"].tolist()\n",
    "compound_values"
   ]
  },
  {
   "cell_type": "code",
   "execution_count": 182,
   "metadata": {},
   "outputs": [],
   "source": [
    "# Takes in one bar plot and current index x to add location of text\n",
    "def autolabel(rects, x):\n",
    "        for rect in rects:\n",
    "            height = rect.get_height()\n",
    "            if compound_values[x] > 0:\n",
    "                delta_height = 0.005\n",
    "                string_value = '+%.2f' % float(height)\n",
    "            else: \n",
    "                # values under x-axis show neater\n",
    "                delta_height = -0.010\n",
    "                string_value = '-%.2f' % float(height)\n",
    "            ax.text(rect.get_x() + rect.get_width() / 2., height + delta_height,\n",
    "                    string_value, ha='center')"
   ]
  },
  {
   "cell_type": "code",
   "execution_count": 183,
   "metadata": {
    "scrolled": true
   },
   "outputs": [
    {
     "data": {
      "image/png": "[encoded data removed]",
      "text/plain": [
       "<Figure size 432x288 with 1 Axes>"
      ]
     },
     "metadata": {
      "needs_background": "light"
     },
     "output_type": "display_data"
    }
   ],
   "source": [
    "# Same dictionary as above\n",
    "colors = {\"Fox News\": \"blue\", \"BBC News (World)\": \"skyblue\", \n",
    "          \"The New York Times\": \"gold\", \"CBS News\": \"green\", \n",
    "          \"CNN\": \"red\"}\n",
    "\n",
    "fig, ax = plt.subplots()\n",
    "# Set width to 1 and plot next to one another with first parameter (x)\n",
    "width = 1\n",
    "ind = np.arange(len(compound_values))  \n",
    "\n",
    "for x in range(len(compound_values)):\n",
    "    # get from dictionary\n",
    "    color = colors[mean_compound_score_df.index[x]]\n",
    "    rect = ax.bar(ind[x], compound_values[x], width, color=color)\n",
    "    autolabel(rect, x)\n",
    "    \n",
    "ax.set_title(f\"Overall Media Sentiment based on Twitter ({time.strftime('%x')})\")\n",
    "ax.set_xticks(ind)\n",
    "ax.set_xticklabels((\"BBC\", \"CBS\", \"CNN\", \"Fox\", \"NTY\"))\n",
    "ax.set_ylabel(\"Tweet Polarity\")\n",
    "ax.set_autoscaley_on(True)\n",
    "\n",
    "file_name = str(time.strftime(\"%m-%d-%y\")) + \"_Fig2.png\"\n",
    "plt.savefig(\"analysis/\" + file_name, bbox_extra_artists=(lgnd, ), bbox_inches='tight')\n",
    "\n",
    "fig.show()"
   ]
  },
  {
   "cell_type": "code",
   "execution_count": null,
   "metadata": {},
   "outputs": [],
   "source": []
  }
 ],
 "metadata": {
  "kernelspec": {
   "display_name": "Python 3",
   "language": "python",
   "name": "python3"
  },
  "language_info": {
   "codemirror_mode": {
    "name": "ipython",
    "version": 3
   },
   "file_extension": ".py",
   "mimetype": "text/x-python",
   "name": "python",
   "nbconvert_exporter": "python",
   "pygments_lexer": "ipython3",
   "version": "3.7.4"
  },
  "toc": {
   "base_numbering": 1,
   "nav_menu": {},
   "number_sections": true,
   "sideBar": true,
   "skip_h1_title": false,
   "title_cell": "Table of Contents",
   "title_sidebar": "Contents",
   "toc_cell": false,
   "toc_position": {},
   "toc_section_display": true,
   "toc_window_display": false
  },
  "varInspector": {
   "cols": {
    "lenName": 16,
    "lenType": 16,
    "lenVar": 40
   },
   "kernels_config": {
    "python": {
     "delete_cmd_postfix": "",
     "delete_cmd_prefix": "del ",
     "library": "var_list.py",
     "varRefreshCmd": "print(var_dic_list())"
    },
    "r": {
     "delete_cmd_postfix": ") ",
     "delete_cmd_prefix": "rm(",
     "library": "var_list.r",
     "varRefreshCmd": "cat(var_dic_list()) "
    }
   },
   "types_to_exclude": [
    "module",
    "function",
    "builtin_function_or_method",
    "instance",
    "_Feature"
   ],
   "window_display": false
  }
 },
 "nbformat": 4,
 "nbformat_minor": 2
}
